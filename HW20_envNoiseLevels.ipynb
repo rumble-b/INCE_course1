{
 "cells": [
  {
   "cell_type": "code",
   "execution_count": 11,
   "metadata": {},
   "outputs": [],
   "source": [
    "##===========================================================================##\n",
    "## modules\n",
    "##===========================================================================##\n",
    "from numpy import log10, array\n",
    "import pandas as pd\n",
    "import io\n",
    "import requests\n"
   ]
  },
  {
   "cell_type": "code",
   "execution_count": 12,
   "metadata": {},
   "outputs": [],
   "source": [
    "###===========================================================================##\n",
    "### constants\n",
    "###===========================================================================##\n",
    "nSites = 3\n",
    "\n",
    "rows_day = array([7,8,9,10,11,12,13,14,15,16,17,18,19,20,21]) #day night\n",
    "rows_dayEve = array([7,8,9,10,11,12,13,14,15,16,17,18]) #day evening night\n",
    "rows_night = array([0,1,2,3,4,5,6,22,23]) \n",
    "rows_eve = array([19,20,21]) \n"
   ]
  },
  {
   "cell_type": "code",
   "execution_count": 14,
   "metadata": {},
   "outputs": [],
   "source": [
    "##===========================================================================##\n",
    "## Data\n",
    "##===========================================================================##\n",
    "url = \"https://raw.githubusercontent.com/rumble-b/INCE_course1/master/Lesson20_Homework_problem_1.csv\"\n",
    "data = pd.read_csv(url)\n",
    "\n"
   ]
  },
  {
   "cell_type": "code",
   "execution_count": 15,
   "metadata": {},
   "outputs": [
    {
     "name": "stdout",
     "output_type": "stream",
     "text": [
      "site 1, Leq = 56 dB\n",
      "site 2, Leq = 61 dB\n",
      "site 3, Leq = 40 dB\n",
      "site 1, Leq, day = 58 dB\n",
      "site 2, Leq, day = 62 dB\n",
      "site 3, Leq, day = 42 dB\n",
      "site 1, Leq, night = 48 dB\n",
      "site 2, Leq, night = 58 dB\n",
      "site 3, Leq, night = 28 dB\n",
      "site 1, Ldn = 58 dB\n",
      "site 2, Ldn = 65 dB\n",
      "site 3, Ldn = 41 dB\n",
      "site 1, Lc = 58 dB\n",
      "site 2, Lc = 66 dB\n",
      "site 3, Lc = 41 dB\n"
     ]
    }
   ],
   "source": [
    "##===========================================================================##\n",
    "## Levels\n",
    "##===========================================================================##\n",
    "for iSite in range(1,nSites+1):\n",
    "    Leq = 10*log10(1/24 * sum(10**(data.iloc[:, iSite]/10)))\n",
    "    print('site ' + str(iSite) + ', Leq = ' + str(int(Leq)) + ' dB')\n",
    "\n",
    "for iSite in range(1,nSites+1):\n",
    "    LeqDay = 10*log10(1/15 * sum(10**(data.iloc[rows_day, iSite]/10)))\n",
    "    print('site ' + str(iSite) + ', Leq, day = ' + str(int(LeqDay)) + ' dB')\n",
    "\n",
    "for iSite in range(1,nSites+1):\n",
    "    LeqNight = 10*log10(1/9 * sum(10**(data.iloc[rows_night, iSite]/10)))\n",
    "    print('site ' + str(iSite) + ', Leq, night = ' + str(int(LeqNight)) + ' dB')\n",
    "\n",
    "for iSite in range(1,nSites+1):\n",
    "    Ldn = 10*log10(1/24 *( sum(10**(data.iloc[rows_day, iSite]/10)) + \n",
    "                           sum(10**((10+data.iloc[rows_night, iSite])/10)) ))\n",
    "    print('site ' + str(iSite) + ', Ldn = ' + str(int(Ldn)) + ' dB')\n",
    "\n",
    "for iSite in range(1,nSites+1):\n",
    "    Lc = 10*log10(1/24 *( sum(10**(data.iloc[rows_dayEve, iSite]/10)) + \n",
    "                          sum(10**((5+data.iloc[rows_eve, iSite])/10)) +\n",
    "                          sum(10**((10+data.iloc[rows_night, iSite])/10))   ))\n",
    "    print('site ' + str(iSite) + ', Lc = ' + str(int(Lc)) + ' dB')\n",
    "\n",
    "\n",
    "\n"
   ]
  },
  {
   "cell_type": "code",
   "execution_count": null,
   "metadata": {},
   "outputs": [],
   "source": []
  }
 ],
 "metadata": {
  "kernelspec": {
   "display_name": "Python 3",
   "language": "python",
   "name": "python3"
  },
  "language_info": {
   "codemirror_mode": {
    "name": "ipython",
    "version": 3
   },
   "file_extension": ".py",
   "mimetype": "text/x-python",
   "name": "python",
   "nbconvert_exporter": "python",
   "pygments_lexer": "ipython3",
   "version": "3.5.6"
  }
 },
 "nbformat": 4,
 "nbformat_minor": 2
}

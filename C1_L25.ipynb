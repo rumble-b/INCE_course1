{
 "cells": [
  {
   "cell_type": "code",
   "execution_count": 1,
   "metadata": {},
   "outputs": [],
   "source": [
    "##===========================================================================##\n",
    "## modules\n",
    "##===========================================================================##\n",
    "from IPython import get_ipython; get_ipython().magic('reset -sf') \n",
    "from numpy import pi, sqrt, array, around, log10, arange, empty, tanh\n",
    "\n",
    "##===========================================================================##\n",
    "## constants \n",
    "##===========================================================================##\n",
    "freq_ob = array([125, 250, 500, 1000, 2000, 4000]) #octave band center frequencies\n",
    "c = 343 #m/s, speed of sound in air"
   ]
  },
  {
   "cell_type": "code",
   "execution_count": 3,
   "metadata": {},
   "outputs": [
    {
     "name": "stdout",
     "output_type": "stream",
     "text": [
      "Insertion Loss(f) =  [12. 14. 17. 19. 20. 20.] dB\n",
      "Change in A-weighted Lp =  16 dB\n"
     ]
    }
   ],
   "source": [
    "##===========================================================================##\n",
    "## 1. Single Barrier\n",
    "##===========================================================================##\n",
    "lambdas = c/freq_ob #m, wavelength at center frequency\n",
    "\n",
    "rSB = 6.4 #m, source to barrier distance\n",
    "rRB = 15.5 #m, receiver to barrier distance\n",
    "rSR = 20 #m, source to receiver distance\n",
    "N = 2/lambdas * (rSB  + rRB - rSR) #fresnel number\n",
    "\n",
    "C1 = 0.75 #barrier constant\n",
    "C2 = 1 #barrier constant\n",
    "Ab = 5 + 20*C1*log10(sqrt(2*pi*N) / tanh(C2*sqrt(2*pi*N)))\n",
    "Ab[Ab>20] = 20\n",
    "dAg = 0 #dB, change in ground effect, assuming ISO 9613-2\n",
    "IL = Ab - dAg\n",
    "\n",
    "Lp = array([78, 82, 85, 80, 72, 60]) #dB, A-weighted levels prior\n",
    "Lp_b = Lp - IL\n",
    "Lp_bA = 10*log10(sum(10**(Lp_b/10)))\n",
    "Lp_A = 10*log10(sum(10**(Lp/10)))\n",
    "\n",
    "print('Insertion Loss(f) = ', str(around(IL,0)), 'dB')\n",
    "print('Change in A-weighted Lp = ', int(around(Lp_A-Lp_bA,0)), 'dB')"
   ]
  },
  {
   "cell_type": "code",
   "execution_count": 4,
   "metadata": {},
   "outputs": [
    {
     "name": "stdout",
     "output_type": "stream",
     "text": [
      "Change in insertion Loss(f) =  [0. 0. 0. 0. 1.] dB\n"
     ]
    }
   ],
   "source": [
    "##===========================================================================##\n",
    "## 2. Multiple parallel barriers\n",
    "##===========================================================================##\n",
    "lambdas = c/freq_ob[range(5)] #m, wavelength at center frequency\n",
    "\n",
    "rSB = 5.8 #m, source to barrier distance\n",
    "rRB = 15.1 #m, receiver to barrier distance\n",
    "rSR = 20 #m, source to receiver distance\n",
    "N = 2/lambdas * (rSB  + rRB - rSR) #fresnel number\n",
    "\n",
    "C1 = 0.75 #barrier constant\n",
    "C2 = 1 #barrier constant\n",
    "dAg = 0 #dB, change in ground effect, assuming ISO 9613-2\n",
    "Ab = 5 + 20*C1*log10(sqrt(2*pi*N) / tanh(C2*sqrt(2*pi*N)))\n",
    "Ab[Ab>20] = 20\n",
    "IL = Ab - dAg\n",
    "\n",
    "s = 1 #m, separation between two barriers\n",
    "N2 = N * (1+(5*lambdas/s)**2)/(0.5+(5*lambdas/s)**2)\n",
    "Ab2 = 5 + 20*C1*log10(sqrt(2*pi*N2) / tanh(C2*sqrt(2*pi*N2)))\n",
    "Ab2[Ab2>20] = 20\n",
    "IL2 = Ab2 - dAg #dB, not to exceed 5 dB\n",
    "\n",
    "dIL = IL2 - IL #db, change in insertion loss\n",
    "print('Change in insertion Loss(f) = ', str(around(dIL,0)), 'dB')"
   ]
  },
  {
   "cell_type": "code",
   "execution_count": 5,
   "metadata": {},
   "outputs": [
    {
     "name": "stdout",
     "output_type": "stream",
     "text": [
      "Attentuation from buildings(f) =  [6. 6. 6. 6. 6.] dB\n"
     ]
    }
   ],
   "source": [
    "##===========================================================================##\n",
    "## 3. Houses as barriers\n",
    "##===========================================================================##\n",
    "lambdas = c/freq_ob[range(5)] #m, wavelength at center frequency\n",
    "\n",
    "rSB = 34.3 #m, source to barrier distance\n",
    "rRB = 103 #m, receiver to barrier distance\n",
    "rSR = 125 #m, source to receiver distance\n",
    "N = 2/lambdas * (rSB  + rRB - rSR) #fresnel number\n",
    "\n",
    "C1 = 0.75 #barrier constant\n",
    "C2 = 1 #barrier constant\n",
    "dAg = 0 #dB, change in ground effect, assuming ISO 9613-2\n",
    "Ab = 5 + 20*C1*log10(sqrt(2*pi*N) / tanh(C2*sqrt(2*pi*N)))\n",
    "Ab[Ab>20] = 20\n",
    "IL = Ab - dAg\n",
    "\n",
    "F = 0.72 #fraction of blockage\n",
    "Abl = -10*log10(1 - F - 10**(-IL)) ##something doesn't seem right with the IL term\n",
    "Abl_check = -10*log10(1 - F)\n",
    "\n",
    "print('Attentuation from buildings(f) = ', str(around(Abl,0)), 'dB')"
   ]
  },
  {
   "cell_type": "code",
   "execution_count": null,
   "metadata": {},
   "outputs": [],
   "source": []
  }
 ],
 "metadata": {
  "kernelspec": {
   "display_name": "Python 3",
   "language": "python",
   "name": "python3"
  },
  "language_info": {
   "codemirror_mode": {
    "name": "ipython",
    "version": 3
   },
   "file_extension": ".py",
   "mimetype": "text/x-python",
   "name": "python",
   "nbconvert_exporter": "python",
   "pygments_lexer": "ipython3",
   "version": "3.5.6"
  }
 },
 "nbformat": 4,
 "nbformat_minor": 2
}

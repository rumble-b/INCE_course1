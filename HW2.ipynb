{
 "cells": [
  {
   "cell_type": "code",
   "execution_count": 5,
   "metadata": {},
   "outputs": [],
   "source": [
    "##===========================================================================##\n",
    "## modules\n",
    "##===========================================================================##\n",
    "from IPython import get_ipython; get_ipython().magic('reset -sf') \n",
    "from numpy import *\n",
    "from numpy.lib.scimath import *\n"
   ]
  },
  {
   "cell_type": "code",
   "execution_count": 6,
   "metadata": {},
   "outputs": [
    {
     "name": "stdout",
     "output_type": "stream",
     "text": [
      "x1 =  -3.25  x2 =  -6.75\n",
      "x1 =  (-3+1.3228756555322954j)  x2 =  (-3-1.3228756555322954j)\n",
      "x1 =  (2+0.7453559924999299j)  x2 =  (2-0.7453559924999299j)\n"
     ]
    }
   ],
   "source": [
    "def quadratic(a,b,c):\n",
    "    x1 = -b + sqrt(b**2-4*a*c)/(2*a)\n",
    "    x2 = -b - sqrt(b**2-4*a*c)/(2*a)\n",
    "    return x1, x2\n",
    "\n",
    "coefs = array([[2,5,-3], [1,3,4], [3,-2,2]])\n",
    "for iRow in range(coefs.shape[0]):\n",
    "    x1, x2 = quadratic(coefs[iRow,0],coefs[iRow,1],coefs[iRow,2])\n",
    "    print('x1 = ', str(x1), ' x2 = ', str(x2))\n"
   ]
  },
  {
   "cell_type": "code",
   "execution_count": 7,
   "metadata": {},
   "outputs": [
    {
     "name": "stdout",
     "output_type": "stream",
     "text": [
      "x = 42110.03805926105, y = 248.7037037037037\n",
      "x = 42110.03805926105, y = 248.70370370370372\n"
     ]
    }
   ],
   "source": [
    "a = linspace(1, 20, num=10)\n",
    "b = logspace(1, 3, num=10, base=10.0)\n",
    "\n",
    "x=0; y=0\n",
    "for i in range(10):\n",
    "    x += a[i] * b[i] \n",
    "    y += a[i] * log10(b[i] )\n",
    "print('x = ' +  str(x)+ ', y = ' +  str(y))\n",
    "\n",
    "x = dot(a,b)\n",
    "y = dot(a,log10(b))\n",
    "print('x = ' +  str(x)+ ', y = ' +  str(y))"
   ]
  },
  {
   "cell_type": "code",
   "execution_count": 8,
   "metadata": {},
   "outputs": [
    {
     "name": "stdout",
     "output_type": "stream",
     "text": [
      "A =  110.50330101290685\n",
      "A =  1816.6966985640913\n",
      "A =  44649.69812162163\n"
     ]
    }
   ],
   "source": [
    "def compInterest(P,r,n,t):\n",
    "    A = P*(1 + r/n)**(n*t)\n",
    "    return A\n",
    "\n",
    "coefs = array([[1000, 0.01, 4, 10], \n",
    "               [1000, 0.06, 6, 10], \n",
    "               [10000, 0.06, 12, 25]])\n",
    "for iRow in range(coefs.shape[0]):\n",
    "    A = compInterest(coefs[iRow,0],coefs[iRow,1],coefs[iRow,2],coefs[iRow,3])\n",
    "    print('A = ', str(A))"
   ]
  },
  {
   "cell_type": "markdown",
   "metadata": {},
   "source": []
  }
 ],
 "metadata": {
  "kernelspec": {
   "display_name": "Python 3",
   "language": "python",
   "name": "python3"
  },
  "language_info": {
   "codemirror_mode": {
    "name": "ipython",
    "version": 3
   },
   "file_extension": ".py",
   "mimetype": "text/x-python",
   "name": "python",
   "nbconvert_exporter": "python",
   "pygments_lexer": "ipython3",
   "version": "3.5.6"
  }
 },
 "nbformat": 4,
 "nbformat_minor": 2
}

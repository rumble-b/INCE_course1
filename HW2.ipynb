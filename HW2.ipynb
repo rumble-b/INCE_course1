{
 "cells": [
  {
   "cell_type": "code",
   "execution_count": 1,
   "metadata": {},
   "outputs": [],
   "source": [
    "##===========================================================================##\n",
    "## modules\n",
    "##===========================================================================##\n",
    "from IPython import get_ipython; get_ipython().magic('reset -sf') \n",
    "from numpy import *\n",
    "from numpy.lib.scimath import *\n"
   ]
  },
  {
   "cell_type": "code",
   "execution_count": 4,
   "metadata": {},
   "outputs": [
    {
     "name": "stdout",
     "output_type": "stream",
     "text": [
      "x1 =  -3.25  x2 =  -6.75\n",
      "x1 =  (-3+1.3228756555322954j)  x2 =  (-3-1.3228756555322954j)\n",
      "x1 =  (2+0.7453559924999299j)  x2 =  (2-0.7453559924999299j)\n"
     ]
    }
   ],
   "source": [
    "def quadratic(a,b,c):\n",
    "    x1 = -b + sqrt(b**2-4*a*c)/(2*a)\n",
    "    x2 = -b - sqrt(b**2-4*a*c)/(2*a)\n",
    "    return x1, x2\n",
    "\n",
    "coefs = array([[2,5,-3], [1,3,4], [3,-2,2]])\n",
    "for iRow in range(coefs.shape[0]):\n",
    "    a = coefs[iRow,0]\n",
    "    b = coefs[iRow,1]\n",
    "    c = coefs[iRow,2]\n",
    "    x1, x2 = quadratic(a,b,c)\n",
    "    print('x1 = ', str(x1), ' x2 = ', str(x2))\n"
   ]
  },
  {
   "cell_type": "code",
   "execution_count": null,
   "metadata": {},
   "outputs": [],
   "source": []
  }
 ],
 "metadata": {
  "kernelspec": {
   "display_name": "Python 3",
   "language": "python",
   "name": "python3"
  },
  "language_info": {
   "codemirror_mode": {
    "name": "ipython",
    "version": 3
   },
   "file_extension": ".py",
   "mimetype": "text/x-python",
   "name": "python",
   "nbconvert_exporter": "python",
   "pygments_lexer": "ipython3",
   "version": "3.5.6"
  }
 },
 "nbformat": 4,
 "nbformat_minor": 2
}

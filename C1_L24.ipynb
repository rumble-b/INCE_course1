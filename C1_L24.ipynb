{
 "cells": [
  {
   "cell_type": "code",
   "execution_count": 1,
   "metadata": {},
   "outputs": [],
   "source": [
    "##===========================================================================##\n",
    "## modules\n",
    "##===========================================================================##\n",
    "from IPython import get_ipython; get_ipython().magic('reset -sf') \n",
    "from numpy import pi, sqrt, array, around, log10, arange, empty\n",
    "import matplotlib.pyplot as plt\n",
    "\n",
    "##===========================================================================##\n",
    "## constants \n",
    "##===========================================================================##\n",
    "freq_ob = [125, 250, 500, 1000, 2000, 4000] #octave band center frequencies\n"
   ]
  },
  {
   "cell_type": "code",
   "execution_count": 2,
   "metadata": {},
   "outputs": [
    {
     "name": "stdout",
     "output_type": "stream",
     "text": [
      "Critical distance, rc(f) =  [1.  1.6 2.3 2.7 3.1 3.5]  m\n"
     ]
    }
   ],
   "source": [
    "##===========================================================================##\n",
    "## 5. calculate direct field \n",
    "##===========================================================================##\n",
    "a_wall = array([0.05, 0.10, 0.20, 0.25, 0.30, 0.40])  \n",
    "a_ceil = array([0.05, 0.06, 0.08, 0.12, 0.15, 0.15])\n",
    "a_flor = array([0.10, 0.30, 0.55, 0.65, 0.80, 0.85])\n",
    "S_wall = 2*(10*6) + 2*(20*6) #m^2, surface area\n",
    "S_ceil = 10*20 #m^2, surface area\n",
    "S_flor = S_ceil #m^2, surface area\n",
    "sS = (S_wall + S_ceil + S_flor) #m^2, total surface area\n",
    "Q = 1 #directivity factor, assuming omnidirectional/at average angle\n",
    "\n",
    "aBar = (S_wall*a_wall + S_ceil*a_ceil + S_flor*a_flor) / sS #average absorption coefficient\n",
    "Rt = 1/(1-aBar) * (S_wall*a_wall + S_ceil*a_ceil + S_flor*a_flor) #m^2, room constant\n",
    "rc = 0.14*sqrt(Rt*Q) #m, critical distance\n",
    "print('Critical distance, rc(f) = ', str(around(rc,1)), ' m')"
   ]
  },
  {
   "cell_type": "code",
   "execution_count": 3,
   "metadata": {},
   "outputs": [
    {
     "name": "stdout",
     "output_type": "stream",
     "text": [
      "Required ceiling absorption coefficient(f) =  [0.85 0.4  0.41 0.77 0.97 0.88]\n",
      "Maximum change in Lp(f) =  [-3.7 -6.7 -7.6 -6.1 -5.1 -4.5]  dB\n"
     ]
    }
   ],
   "source": [
    "##===========================================================================##\n",
    "## 6. calculate ceiling absorption required \n",
    "##===========================================================================##\n",
    "a_wall = array([0.29, 0.10, 0.05, 0.04, 0.07, 0.09])  \n",
    "a_flor = array([0.02, 0.06, 0.14, 0.37, 0.50, 0.65])\n",
    "a_ceil = array([0.29, 0.10, 0.05, 0.04, 0.07, 0.09])\n",
    "S_wall = 2*(5*3) + 2*(8*3) #m^2, surface area\n",
    "S_ceil = 5*8 #m^2, surface area\n",
    "S_flor = S_ceil #m^2, surface area\n",
    "sS = (S_wall + S_ceil + S_flor) #m^2, total surface area\n",
    "\n",
    "aBar = (S_wall*a_wall + S_ceil*a_ceil + S_flor*a_flor) / sS #average absorption coefficient\n",
    "Rt1 = 1/(1-aBar) * (S_wall*a_wall + S_ceil*a_ceil + S_flor*a_flor) #m^2, room constant 1\n",
    "\n",
    "NRd = -array([3, 3, 4, 5, 5, 4]) #dB, desired noise reduction\n",
    "Rt2 = 10**(log10(Rt1) - NRd/10) #room constant 2, after adding absorption\n",
    "a_ceil2 = (Rt2 - S_wall*a_wall - S_flor*a_flor - Rt2*S_wall*a_wall/sS - \n",
    "           Rt2*S_flor*a_flor/sS) / (S_ceil + Rt2*S_ceil/sS)\n",
    "print('Required ceiling absorption coefficient(f) = ', str(around(a_ceil2,2)))\n",
    "\n",
    "a_ceil_max = array([1, 1, 1, 1, 1, 1])\n",
    "aBar3 = (S_wall*a_wall + S_ceil*a_ceil_max + S_flor*a_flor) / sS #average absorption coefficient\n",
    "Rt3 = 1/(1-aBar3) * (S_wall*a_wall + S_ceil*a_ceil_max + S_flor*a_flor) #m^2, room constant 3\n",
    "dLp = 10*log10(Rt1/Rt3) #dB, change in Lp in reverberant field (check)\n",
    "print('Maximum change in Lp(f) = ', str(around(dLp,1)), ' dB')"
   ]
  },
  {
   "cell_type": "code",
   "execution_count": 6,
   "metadata": {},
   "outputs": [
    {
     "name": "stdout",
     "output_type": "stream",
     "text": [
      "Transmission loss(f) =  [20.6 19.6 21.1 23.1 26.1 17.9]  dB\n"
     ]
    }
   ],
   "source": [
    "##===========================================================================##\n",
    "## 7. calculate required transmission loss\n",
    "##===========================================================================##\n",
    "a_wall = array([0.14, 0.10, 0.06, 0.05, 0.04, 0.03])  \n",
    "a_flor = array([0.08, 0.24, 0.57, 0.69, 0.71, 0.83])\n",
    "a_ceil = array([0.76, 0.93, 0.83, 0.99, 0.99, 0.94])\n",
    "S_wall = 2*(3*4) + 2*(3*5) #m^2, surface area\n",
    "S_ceil = 4*5 #m^2, surface area\n",
    "S_flor = S_ceil #m^2, surface area\n",
    "sS = (S_wall + S_ceil + S_flor) #m^2, total surface area\n",
    "sP = 3*4 #m^2, surface area of partition\n",
    "\n",
    "aBar = (S_wall*a_wall + S_ceil*a_ceil + S_flor*a_flor) / sS #average absorption coefficient\n",
    "Rt = 1/(1-aBar) * (S_wall*a_wall + S_ceil*a_ceil + S_flor*a_flor) #m^2, room constant \n",
    "\n",
    "LpS = array([70, 65, 62, 60, 58, 45]) #dB, sound levels in the source room   \n",
    "LpR = array([45, 40, 35, 30, 25, 20]) #dB, sound levels in the receiver room   \n",
    "NR = LpS - LpR #dB, noise reduction\n",
    "TL = NR - 10*log10(Rt/sP) #dB, transmission loss\n",
    "print('Transmission loss(f) = ', str(around(TL,1)), ' dB')"
   ]
  },
  {
   "cell_type": "code",
   "execution_count": 7,
   "metadata": {},
   "outputs": [
    {
     "name": "stdout",
     "output_type": "stream",
     "text": [
      "Absorption coefficient of the sample(f) =  [0.06 0.07 0.3  0.48 0.48 0.72 0.79]\n"
     ]
    }
   ],
   "source": [
    "##===========================================================================##\n",
    "## 8. calculate Sabine absorption\n",
    "##===========================================================================##\n",
    "S_wall = 2*(25*30) + 2*(25*35) #ft^2, surface area\n",
    "S_ceil = 30*35 #ft^2, surface area\n",
    "S_flor = S_ceil #ft^2, surface area\n",
    "sR = (S_wall + S_ceil + S_flor) * 0.3048**2 #m^2, total surface area of reverberation room\n",
    "vR = 25*30*35 * 0.3048**3 #m^3,volume of reverberation room\n",
    "sS = 72 * 0.3048**2 #m^2, area of sample\n",
    "\n",
    "T60r = array([24, 19.6, 15.2, 12, 9.5, 7.5, 4.2]) #s, T60 of reverberation room without sample \n",
    "T60w = array([22, 18, 12, 9, 7.5, 5.7, 3.5]) #s, T60 of reverberation room with sample \n",
    "#T60w = T60r-10 #s, T60 of reverberation room with sample \n",
    "\n",
    "aR = 0.161*vR/(sR*T60r)\n",
    "aS = 0.161*vR/sS * (1/T60w - 1/T60r) - aR #see Bies, aR term not included\n",
    "\n",
    "print('Absorption coefficient of the sample(f) = ', str(around(aS,2)))\n"
   ]
  },
  {
   "cell_type": "code",
   "execution_count": 8,
   "metadata": {},
   "outputs": [
    {
     "data": {
      "text/plain": [
       "<matplotlib.legend.Legend at 0x751da20>"
      ]
     },
     "execution_count": 8,
     "metadata": {},
     "output_type": "execute_result"
    },
    {
     "data": {
      "image/png": "[encoded data removed]",
      "text/plain": [
       "<Figure size 720x360 with 1 Axes>"
      ]
     },
     "metadata": {
      "needs_background": "light"
     },
     "output_type": "display_data"
    }
   ],
   "source": [
    "##===========================================================================##\n",
    "## 9. room absorption\n",
    "##===========================================================================##\n",
    "def room_absorption(x, y, z, abs_coeffs): \n",
    "    # abs_coeffs = [a ceiling, a floor, a wall 1, a wall 2, a wall 3, a wall 4]\n",
    "    Q_theta = 2\n",
    "    length = 10; \n",
    "    width = 12; \n",
    "    height = 3 #m, room dimensions\n",
    "    x_source = 5;\n",
    "    y_source = 6;\n",
    "    z_source = 3; #m, source location\n",
    "    \n",
    "    A_floor = length*width;\n",
    "    A_ceiling = length*width;\n",
    "    A_wall1 = length*height;\n",
    "    A_wall2 = length*width;\n",
    "    A_wall3 = length*height;\n",
    "    A_wall4 = length*width;\n",
    "    areas = array([A_floor, A_ceiling, A_wall1, A_wall2, A_wall3, A_wall4])\n",
    "    \n",
    "    alpha_bar = sum(abs_coeffs*areas)/sum(areas)\n",
    "    RT = 1/(1-alpha_bar)*sum(abs_coeffs*areas)\n",
    "    r = sqrt((x-x_source)**2+(y-y_source)**2+(z-z_source)**2)\n",
    "    LW = 80; #dB, source power level\n",
    "    L = LW + 10*log10(Q_theta/(4*pi*r**2)+4/RT)\n",
    "    return L\n",
    "\n",
    "aac = arange(0.1,1.001,0.1) #wall absorption coefficient values\n",
    "nRes = len(aac)\n",
    "Ldr = empty((nRes,1)) # distant receiver\n",
    "Lpr = empty((nRes,1)) # proximate receiver\n",
    "for ia in range(nRes):\n",
    "    a_room = array([0.1,0.1,aac[ia],aac[ia],aac[ia],aac[ia]]) \n",
    "    Ldr[ia] = room_absorption(0,0,1.5,a_room)\n",
    "    Lpr[ia] = room_absorption(5,6,1.5,a_room)\n",
    "\n",
    "fig, ax1 = plt.subplots(1, 1, sharex=True, figsize=(10,5))\n",
    "ax1.plot(aac, Ldr, label='distant receiver')\n",
    "ax1.plot(aac, Lpr, label='proximate receiver')\n",
    "ax1.set_xlabel(r'$\\alpha$')\n",
    "ax1.set_ylabel('Sound Pressure Level, dB re 20 ' + chr(956) + 'Pa')\n",
    "ax1.grid()\n",
    "ax1.legend(loc='lower left')"
   ]
  },
  {
   "cell_type": "code",
   "execution_count": null,
   "metadata": {},
   "outputs": [],
   "source": []
  }
 ],
 "metadata": {
  "kernelspec": {
   "display_name": "Python 3",
   "language": "python",
   "name": "python3"
  },
  "language_info": {
   "codemirror_mode": {
    "name": "ipython",
    "version": 3
   },
   "file_extension": ".py",
   "mimetype": "text/x-python",
   "name": "python",
   "nbconvert_exporter": "python",
   "pygments_lexer": "ipython3",
   "version": "3.5.6"
  }
 },
 "nbformat": 4,
 "nbformat_minor": 2
}

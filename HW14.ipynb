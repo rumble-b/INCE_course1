{
 "cells": [
  {
   "cell_type": "code",
   "execution_count": 1,
   "metadata": {},
   "outputs": [],
   "source": [
    "##===========================================================================##\n",
    "## modules\n",
    "##===========================================================================##\n",
    "from numpy import *\n",
    "import matplotlib.pyplot as plt"
   ]
  },
  {
   "cell_type": "code",
   "execution_count": 2,
   "metadata": {},
   "outputs": [],
   "source": [
    "##===========================================================================##\n",
    "## functions\n",
    "##===========================================================================##\n",
    "def combineLevel(Lm):\n",
    "    L_total = 10*log10(sum(10**(Lm/10)))\n",
    "    return L_total"
   ]
  },
  {
   "cell_type": "code",
   "execution_count": 5,
   "metadata": {},
   "outputs": [
    {
     "name": "stdout",
     "output_type": "stream",
     "text": [
      "83.01029995663981\n",
      "100.45322978786658\n",
      "20.0\n"
     ]
    }
   ],
   "source": [
    "##===========================================================================##\n",
    "## 4 \n",
    "##===========================================================================##\n",
    "Lm = array([80, 80])\n",
    "L_total = combineLevel(Lm)\n",
    "print(L_total)\n",
    "\n",
    "Lm = array([80, 90, 100])\n",
    "L_total = combineLevel(Lm)\n",
    "print(L_total)\n",
    "\n",
    "Lm = 0*ones(100)\n",
    "L_total = combineLevel(Lm)\n",
    "print(L_total)"
   ]
  },
  {
   "cell_type": "code",
   "execution_count": 7,
   "metadata": {},
   "outputs": [
    {
     "data": {
      "text/plain": [
       "Text(0,0.5,'Sound pressure level, dB re 20 μPa')"
      ]
     },
     "execution_count": 7,
     "metadata": {},
     "output_type": "execute_result"
    },
    {
     "data": {
      "image/png": "[encoded data removed]",
      "text/plain": [
       "<Figure size 432x288 with 1 Axes>"
      ]
     },
     "metadata": {
      "needs_background": "light"
     },
     "output_type": "display_data"
    }
   ],
   "source": [
    "##===========================================================================##\n",
    "## 5\n",
    "##===========================================================================##\n",
    "Lm_all = 0*ones(50)\n",
    "fig, ax1 = plt.subplots()\n",
    "for i in range(1,len(Lm_all)+1):\n",
    "    Lm = Lm_all[range(i)]\n",
    "    L_total = combineLevel(Lm)\n",
    "    \n",
    "    ax1.plot(i, L_total, 'k.')\n",
    "\n",
    "ax1.set_xlabel('n sources')\n",
    "ax1.set_ylabel('Sound pressure level, dB re 20 ' + chr(956) + 'Pa')\n",
    "\n",
    "\n",
    "# a. \n",
    "# 3 source are needed to raise the level by 4.8 dB\n",
    "# 10 source are needed to raise the level by 10 dB\n",
    "# 32 source are needed to raise the level by 15 dB\n",
    "# 100 source are needed to raise the level by 20 dB\n",
    "# b. \n",
    "# Adding a 5th source raises the total level <1 dB"
   ]
  },
  {
   "cell_type": "code",
   "execution_count": null,
   "metadata": {},
   "outputs": [],
   "source": []
  }
 ],
 "metadata": {
  "kernelspec": {
   "display_name": "Python 3",
   "language": "python",
   "name": "python3"
  },
  "language_info": {
   "codemirror_mode": {
    "name": "ipython",
    "version": 3
   },
   "file_extension": ".py",
   "mimetype": "text/x-python",
   "name": "python",
   "nbconvert_exporter": "python",
   "pygments_lexer": "ipython3",
   "version": "3.5.6"
  }
 },
 "nbformat": 4,
 "nbformat_minor": 2
}

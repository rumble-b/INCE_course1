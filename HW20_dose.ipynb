{
 "cells": [
  {
   "cell_type": "code",
   "execution_count": 1,
   "metadata": {},
   "outputs": [],
   "source": [
    "##===========================================================================##\n",
    "## modules\n",
    "##===========================================================================##\n",
    "from IPython import get_ipython; get_ipython().magic('reset -sf') \n",
    "from numpy import log10, array, around\n",
    "import numpy as np\n",
    "import matplotlib.pyplot as plt\n"
   ]
  },
  {
   "cell_type": "code",
   "execution_count": 2,
   "metadata": {},
   "outputs": [],
   "source": [
    "###===========================================================================##\n",
    "### constants\n",
    "###===========================================================================##\n",
    "La = array([80,83,90,93,93,80,95,80]) #hourly LAeq for 8 hour day\n",
    "#La = np.empty(8); La.fill(85) #hourly LAeq for 8 hour day\n",
    "#La = np.empty(8); La.fill(88) #hourly LAeq for 8 hour day\n",
    "\n",
    "T = 8 #hours"
   ]
  },
  {
   "cell_type": "code",
   "execution_count": 3,
   "metadata": {},
   "outputs": [
    {
     "name": "stdout",
     "output_type": "stream",
     "text": [
      "dose: 89.5%, assuming weak regulations\n"
     ]
    }
   ],
   "source": [
    "##===========================================================================##\n",
    "## Worker’s exposure using 90 dB for 8 hours criterion, 5 dB exchange rate\n",
    "##===========================================================================##\n",
    "Lc = 90 # dB, criterion level\n",
    "q = 5/log10(2) #exchange rate factor\n",
    "D = 100/T * sum(10**((La-Lc)/q)) # %, noise dose\n",
    "print('dose: ' + str(around(D,1)) + '%, assuming weak regulations')"
   ]
  },
  {
   "cell_type": "code",
   "execution_count": 4,
   "metadata": {},
   "outputs": [
    {
     "name": "stdout",
     "output_type": "stream",
     "text": [
      "dose: 344.1%, assuming strong regulations\n",
      "TWA: 90.3dB\n"
     ]
    }
   ],
   "source": [
    "##===========================================================================##\n",
    "## Worker’s exposure using 85 dB for 8 hours criterion, 3 dB exchange rate\n",
    "##===========================================================================##\n",
    "Lc = 85 # dB, criterion level\n",
    "q = 3/log10(2) #exchange rate factor\n",
    "D = 100/T * sum(10**((La-Lc)/q)) # %, noise dose\n",
    "print('dose: ' + str(around(D,1)) + '%, assuming strong regulations')\n",
    "\n",
    "## compare to TWA\n",
    "Leq = 10*log10(1/T*sum(10**(La/10)))\n",
    "TWA = q * log10(D/100) + Lc\n",
    "print('TWA: ' + str(around(TWA,1)) + 'dB')"
   ]
  },
  {
   "cell_type": "code",
   "execution_count": null,
   "metadata": {},
   "outputs": [],
   "source": []
  }
 ],
 "metadata": {
  "kernelspec": {
   "display_name": "Python 3",
   "language": "python",
   "name": "python3"
  },
  "language_info": {
   "codemirror_mode": {
    "name": "ipython",
    "version": 3
   },
   "file_extension": ".py",
   "mimetype": "text/x-python",
   "name": "python",
   "nbconvert_exporter": "python",
   "pygments_lexer": "ipython3",
   "version": "3.5.6"
  }
 },
 "nbformat": 4,
 "nbformat_minor": 2
}
